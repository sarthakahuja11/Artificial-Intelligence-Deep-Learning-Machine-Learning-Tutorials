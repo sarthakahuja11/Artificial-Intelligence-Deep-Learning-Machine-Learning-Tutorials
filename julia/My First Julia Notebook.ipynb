{
 "cells": [
  {
   "cell_type": "markdown",
   "metadata": {},
   "source": [
    "```\n",
    "             _\n",
    "   _       _ _(_)_     |  A fresh approach to technical computing\n",
    "  (_)     | (_) (_)    |  Documentation: https://docs.julialang.org\n",
    "   _ _   _| |_  __ _   |  Type \"?help\" for help.\n",
    "  | | | | | | |/ _` |  |\n",
    "  | | |_| | | | (_| |  |  Version 0.6.1 (2017-10-24 22:15 UTC)\n",
    " _/ |\\__'_|_|_|\\__'_|  |  Official http://julialang.org/ release\n",
    "|__/                   |  x86_64-pc-linux-gnu\n",
    "\n",
    "julia> Pkg.add(\"IJulia\")\n",
    "INFO: Initializing package repository /.julia/v0.6\n",
    "INFO: Cloning METADATA from https://github.com/JuliaLang/METADATA.jl\n",
    "INFO: Cloning cache of BinDeps from https://github.com/JuliaLang/BinDeps.jl.git\n",
    "INFO: Cloning cache of Compat from https://github.com/JuliaLang/Compat.jl.git\n",
    "INFO: Cloning cache of Conda from https://github.com/JuliaPy/Conda.jl.git\n",
    "INFO: Cloning cache of IJulia from https://github.com/JuliaLang/IJulia.jl.git\n",
    "INFO: Cloning cache of JSON from https://github.com/JuliaIO/JSON.jl.git\n",
    "INFO: Cloning cache of MbedTLS from https://github.com/JuliaWeb/MbedTLS.jl.git\n",
    "INFO: Cloning cache of SHA from https://github.com/staticfloat/SHA.jl.git\n",
    "INFO: Cloning cache of URIParser from https://github.com/JuliaWeb/URIParser.jl.git\n",
    "INFO: Cloning cache of ZMQ from https://github.com/JuliaInterop/ZMQ.jl.git\n",
    "INFO: Installing BinDeps v0.6.0\n",
    "INFO: Installing Compat v0.34.0\n",
    "INFO: Installing Conda v0.7.0\n",
    "INFO: Installing IJulia v1.6.2\n",
    "INFO: Installing JSON v0.15.1\n",
    "INFO: Installing MbedTLS v0.5.1\n",
    "INFO: Installing SHA v0.5.1\n",
    "INFO: Installing URIParser v0.2.0\n",
    "INFO: Installing ZMQ v0.5.1\n",
    "INFO: Building Conda\n",
    "INFO: Building MbedTLS\n",
    "Using system libraries...\n",
    "INFO: Building ZMQ\n",
    "WARNING: Compat.ASCIIString is deprecated, use String instead.\n",
    "  likely near /.julia/v0.6/ZMQ/deps/build.jl:36\n",
    "INFO: Building IJulia\n",
    "INFO: Found Jupyter version 4.3.0: jupyter\n",
    "INFO: Installing Julia kernelspec julia-0.6\n",
    "[InstallKernelSpec] Installed kernelspec julia-0.6 in /.local/share/jupyter/kernels/julia-0.6\n",
    "INFO: Package database updated\n",
    "\n",
    "julia> using IJulia\n",
    "INFO: Precompiling module IJulia.\n",
    "\n",
    "julia> notebook()\n",
    "\n",
    "```\n",
    "\n",
    "**Then fire it up from you Jupyter Notebook**"
   ]
  },
  {
   "cell_type": "markdown",
   "metadata": {},
   "source": [
    "## Simple Tests"
   ]
  },
  {
   "cell_type": "code",
   "execution_count": 1,
   "metadata": {},
   "outputs": [
    {
     "data": {
      "text/plain": [
       "25"
      ]
     },
     "execution_count": 1,
     "metadata": {},
     "output_type": "execute_result"
    }
   ],
   "source": [
    "10+15"
   ]
  },
  {
   "cell_type": "code",
   "execution_count": 2,
   "metadata": {},
   "outputs": [
    {
     "data": {
      "text/plain": [
       "1120"
      ]
     },
     "execution_count": 2,
     "metadata": {},
     "output_type": "execute_result"
    }
   ],
   "source": [
    "80*14"
   ]
  },
  {
   "cell_type": "code",
   "execution_count": 3,
   "metadata": {},
   "outputs": [
    {
     "data": {
      "text/plain": [
       "184528125"
      ]
     },
     "execution_count": 3,
     "metadata": {},
     "output_type": "execute_result"
    }
   ],
   "source": [
    "45^5"
   ]
  },
  {
   "cell_type": "code",
   "execution_count": 4,
   "metadata": {},
   "outputs": [
    {
     "data": {
      "text/plain": [
       "3-element Array{Array{Float64,1},1}:\n",
       " [1.0, 2.0, 3.0]\n",
       " [1.0, 2.0]     \n",
       " [3.0, 4.0, 5.0]"
      ]
     },
     "execution_count": 4,
     "metadata": {},
     "output_type": "execute_result"
    }
   ],
   "source": [
    "a = Vector{Vector{Float64}}(3)\n",
    "a[1] = [1;2;3]\n",
    "a[2] = [1;2]\n",
    "a[3] = [3;4;5]\n",
    "a"
   ]
  },
  {
   "cell_type": "code",
   "execution_count": 5,
   "metadata": {},
   "outputs": [
    {
     "data": {
      "text/plain": [
       "3-element Array{Array{Float64,1},1}:\n",
       " [1.0, 4.0, 5.0]\n",
       " [1.0, 2.0]     \n",
       " [3.0, 4.0, 5.0]"
      ]
     },
     "execution_count": 5,
     "metadata": {},
     "output_type": "execute_result"
    }
   ],
   "source": [
    "b = a\n",
    "b[1] = [1;4;5]\n",
    "a"
   ]
  },
  {
   "cell_type": "markdown",
   "metadata": {},
   "source": [
    "## Control Flow "
   ]
  },
  {
   "cell_type": "code",
   "execution_count": 6,
   "metadata": {},
   "outputs": [
    {
     "name": "stdout",
     "output_type": "stream",
     "text": [
      "1\n",
      "2\n",
      "3\n",
      "4\n",
      "5\n",
      "0\n",
      "1\n",
      "2\n",
      "3\n",
      "4\n",
      "Groningen"
     ]
    }
   ],
   "source": [
    "for i=1:5\n",
    "    println(i)\n",
    "end\n",
    "\n",
    "t = 0\n",
    "while t < 5\n",
    "    println(t)\n",
    "    t += 1\n",
    "end\n",
    "\n",
    "school=:GRN\n",
    "\n",
    "if school==:GRN\n",
    "    print(\"Groningen\")\n",
    "else\n",
    "    print(\"If not Groningen, go home coz the brainiest folks come from Groningen!\")\n",
    "end"
   ]
  },
  {
   "cell_type": "code",
   "execution_count": 7,
   "metadata": {},
   "outputs": [
    {
     "name": "stdout",
     "output_type": "stream",
     "text": [
      "2\n",
      "3\n",
      "4\n",
      "4\n",
      "6\n",
      "8\n"
     ]
    }
   ],
   "source": [
    "for i=1:2,j=2:4\n",
    "    println(i*j)\n",
    "end"
   ]
  },
  {
   "cell_type": "markdown",
   "metadata": {},
   "source": [
    "### Simple Function Syntax "
   ]
  },
  {
   "cell_type": "code",
   "execution_count": 8,
   "metadata": {},
   "outputs": [
    {
     "data": {
      "text/plain": [
       "f (generic function with 1 method)"
      ]
     },
     "execution_count": 8,
     "metadata": {},
     "output_type": "execute_result"
    }
   ],
   "source": [
    "f(x,y) = 2x+y"
   ]
  },
  {
   "cell_type": "code",
   "execution_count": 9,
   "metadata": {},
   "outputs": [
    {
     "data": {
      "text/plain": [
       "4"
      ]
     },
     "execution_count": 9,
     "metadata": {},
     "output_type": "execute_result"
    }
   ],
   "source": [
    "f(1,2)"
   ]
  },
  {
   "cell_type": "code",
   "execution_count": 10,
   "metadata": {},
   "outputs": [
    {
     "name": "stdout",
     "output_type": "stream",
     "text": [
      "  0.001360 seconds (292 allocations: 18.649 KiB)\n",
      "  0.000001 seconds (4 allocations: 160 bytes)\n",
      "  0.000001 seconds (3 allocations: 144 bytes)\n",
      "  0.001978 seconds (1.10 k allocations: 65.566 KiB)\n",
      "  0.000001 seconds (4 allocations: 160 bytes)\n"
     ]
    },
    {
     "data": {
      "text/plain": [
       "4.0"
      ]
     },
     "execution_count": 10,
     "metadata": {},
     "output_type": "execute_result"
    }
   ],
   "source": [
    "# More fun stuff\n",
    "f(x,y,z,w) = x+y+z+w\n",
    "@time f(1,1,1,1)\n",
    "@time f(1,1,1,1)\n",
    "@time f(1,1,1,1)\n",
    "@time f(1,1,1,1.0)\n",
    "@time f(1,1,1,1.0)"
   ]
  },
  {
   "cell_type": "markdown",
   "metadata": {},
   "source": [
    "### Vector operations \n",
    "\n",
    "**Note** : Unlike Python, here indexing starts with 1 :)"
   ]
  },
  {
   "cell_type": "code",
   "execution_count": 6,
   "metadata": {},
   "outputs": [
    {
     "data": {
      "text/plain": [
       "1×3 Array{Int64,2}:\n",
       " 3  5  7"
      ]
     },
     "execution_count": 6,
     "metadata": {},
     "output_type": "execute_result"
    }
   ],
   "source": [
    "A = [3 5 7] # create a row vector"
   ]
  },
  {
   "cell_type": "code",
   "execution_count": 7,
   "metadata": {},
   "outputs": [
    {
     "data": {
      "text/plain": [
       "3"
      ]
     },
     "execution_count": 7,
     "metadata": {},
     "output_type": "execute_result"
    }
   ],
   "source": [
    "A[1] # Getting first element, like Python and R"
   ]
  },
  {
   "cell_type": "code",
   "execution_count": 8,
   "metadata": {},
   "outputs": [
    {
     "data": {
      "text/plain": [
       "3-element Array{Int64,1}:\n",
       " 3\n",
       " 5\n",
       " 7"
      ]
     },
     "execution_count": 8,
     "metadata": {},
     "output_type": "execute_result"
    }
   ],
   "source": [
    "A = [3;5;7] # with semi-colons you create a column vector"
   ]
  },
  {
   "cell_type": "code",
   "execution_count": 9,
   "metadata": {},
   "outputs": [
    {
     "data": {
      "text/plain": [
       "35"
      ]
     },
     "execution_count": 9,
     "metadata": {},
     "output_type": "execute_result"
    }
   ],
   "source": [
    "# Change elements\n",
    "A[1] = 35"
   ]
  },
  {
   "cell_type": "code",
   "execution_count": 10,
   "metadata": {},
   "outputs": [
    {
     "data": {
      "text/plain": [
       "3-element Array{Int64,1}:\n",
       " 35\n",
       "  5\n",
       "  7"
      ]
     },
     "execution_count": 10,
     "metadata": {},
     "output_type": "execute_result"
    }
   ],
   "source": [
    "A"
   ]
  },
  {
   "cell_type": "markdown",
   "metadata": {},
   "source": [
    "### Matrix stuff "
   ]
  },
  {
   "cell_type": "code",
   "execution_count": 12,
   "metadata": {},
   "outputs": [
    {
     "data": {
      "text/plain": [
       "3×3 Array{Int64,2}:\n",
       "  1   5   7\n",
       "  9  11  13\n",
       " 15  17  19"
      ]
     },
     "execution_count": 12,
     "metadata": {},
     "output_type": "execute_result"
    }
   ],
   "source": [
    "M = [1 5 7;9 11 13;15 17 19] # We use semi-colons to change rows, space is used to seperate cols"
   ]
  },
  {
   "cell_type": "code",
   "execution_count": 14,
   "metadata": {},
   "outputs": [
    {
     "data": {
      "text/plain": [
       "3×3 Array{Int64,2}:\n",
       "  1  6767   7\n",
       "  9    11  13\n",
       " 15    17  19"
      ]
     },
     "execution_count": 14,
     "metadata": {},
     "output_type": "execute_result"
    }
   ],
   "source": [
    "M[1,2] = 6767 # change element in first row, second column\n",
    "M"
   ]
  },
  {
   "cell_type": "code",
   "execution_count": 16,
   "metadata": {},
   "outputs": [
    {
     "data": {
      "text/plain": [
       "3×3 Array{Int64,2}:\n",
       "    1   9  15\n",
       " 6767  11  17\n",
       "    7  13  19"
      ]
     },
     "execution_count": 16,
     "metadata": {},
     "output_type": "execute_result"
    }
   ],
   "source": [
    "M' # simple way to transpose values using a single quote"
   ]
  },
  {
   "cell_type": "code",
   "execution_count": 18,
   "metadata": {},
   "outputs": [
    {
     "data": {
      "text/plain": [
       "3×3 Array{Float64,2}:\n",
       " -7.39317e-5   -0.791402      0.541513   \n",
       "  0.000147863  -0.000529844   0.000308049\n",
       " -7.39317e-5    0.625265     -0.375154   "
      ]
     },
     "execution_count": 18,
     "metadata": {},
     "output_type": "execute_result"
    }
   ],
   "source": [
    "inv(M) # Inversing the matrix"
   ]
  },
  {
   "cell_type": "markdown",
   "metadata": {},
   "source": [
    "### Dictoinaries "
   ]
  },
  {
   "cell_type": "code",
   "execution_count": 19,
   "metadata": {},
   "outputs": [
    {
     "data": {
      "text/plain": [
       "Dict{String,String} with 2 entries:\n",
       "  \"Class\" => \"Julia Computing\"\n",
       "  \"name\"  => \"Tarry's Tuts\""
      ]
     },
     "execution_count": 19,
     "metadata": {},
     "output_type": "execute_result"
    }
   ],
   "source": [
    "D = Dict(\"name\" => \"Tarry's Tuts\", \"Class\" => \"Julia Computing\")"
   ]
  },
  {
   "cell_type": "code",
   "execution_count": 20,
   "metadata": {},
   "outputs": [
    {
     "data": {
      "text/plain": [
       "\"Tarry's Tuts\""
      ]
     },
     "execution_count": 20,
     "metadata": {},
     "output_type": "execute_result"
    }
   ],
   "source": [
    "D[\"name\"]"
   ]
  },
  {
   "cell_type": "code",
   "execution_count": 21,
   "metadata": {},
   "outputs": [
    {
     "data": {
      "text/plain": [
       "2"
      ]
     },
     "execution_count": 21,
     "metadata": {},
     "output_type": "execute_result"
    }
   ],
   "source": [
    "D.count"
   ]
  },
  {
   "cell_type": "markdown",
   "metadata": {},
   "source": [
    "### Strings "
   ]
  },
  {
   "cell_type": "code",
   "execution_count": 22,
   "metadata": {},
   "outputs": [
    {
     "name": "stdout",
     "output_type": "stream",
     "text": [
      "H\n",
      "24\n"
     ]
    }
   ],
   "source": [
    "txt = \"Hi there, I am a string!\"\n",
    "println(txt[1])\n",
    "println(txt.len)"
   ]
  },
  {
   "cell_type": "code",
   "execution_count": 24,
   "metadata": {},
   "outputs": [
    {
     "ename": "LoadError",
     "evalue": "\u001b[91mMethodError: no method matching setindex!(::String, ::String, ::Int64)\u001b[39m",
     "output_type": "error",
     "traceback": [
      "\u001b[91mMethodError: no method matching setindex!(::String, ::String, ::Int64)\u001b[39m",
      "",
      "Stacktrace:",
      " [1] \u001b[1minclude_string\u001b[22m\u001b[22m\u001b[1m(\u001b[22m\u001b[22m::String, ::String\u001b[1m)\u001b[22m\u001b[22m at \u001b[1m./loading.jl:522\u001b[22m\u001b[22m"
     ]
    }
   ],
   "source": [
    "txt[1] = \"Oh\" # We can't change them, once created!"
   ]
  },
  {
   "cell_type": "code",
   "execution_count": null,
   "metadata": {
    "collapsed": true
   },
   "outputs": [],
   "source": []
  },
  {
   "cell_type": "code",
   "execution_count": null,
   "metadata": {
    "collapsed": true
   },
   "outputs": [],
   "source": []
  },
  {
   "cell_type": "code",
   "execution_count": null,
   "metadata": {
    "collapsed": true
   },
   "outputs": [],
   "source": []
  },
  {
   "cell_type": "markdown",
   "metadata": {},
   "source": [
    "##  It's fun, right?\n",
    "\n",
    "### Let's try more fun stuff like Strang Matrix Problem"
   ]
  },
  {
   "cell_type": "code",
   "execution_count": 11,
   "metadata": {
    "collapsed": true
   },
   "outputs": [],
   "source": [
    "N = 15\n",
    "A = zeros(N, N)\n",
    "\n",
    "for i in 1:N, j in 1:N\n",
    "    abs(i-j) <= 1 && (A[i, j] += 1)\n",
    "    i == j && (A[i, j] -= 3)\n",
    "end"
   ]
  },
  {
   "cell_type": "code",
   "execution_count": 12,
   "metadata": {},
   "outputs": [
    {
     "data": {
      "text/plain": [
       "15×15 Array{Float64,2}:\n",
       " -2.0   1.0   0.0   0.0   0.0   0.0  …   0.0   0.0   0.0   0.0   0.0   0.0\n",
       "  1.0  -2.0   1.0   0.0   0.0   0.0      0.0   0.0   0.0   0.0   0.0   0.0\n",
       "  0.0   1.0  -2.0   1.0   0.0   0.0      0.0   0.0   0.0   0.0   0.0   0.0\n",
       "  0.0   0.0   1.0  -2.0   1.0   0.0      0.0   0.0   0.0   0.0   0.0   0.0\n",
       "  0.0   0.0   0.0   1.0  -2.0   1.0      0.0   0.0   0.0   0.0   0.0   0.0\n",
       "  0.0   0.0   0.0   0.0   1.0  -2.0  …   0.0   0.0   0.0   0.0   0.0   0.0\n",
       "  0.0   0.0   0.0   0.0   0.0   1.0      0.0   0.0   0.0   0.0   0.0   0.0\n",
       "  0.0   0.0   0.0   0.0   0.0   0.0      0.0   0.0   0.0   0.0   0.0   0.0\n",
       "  0.0   0.0   0.0   0.0   0.0   0.0      1.0   0.0   0.0   0.0   0.0   0.0\n",
       "  0.0   0.0   0.0   0.0   0.0   0.0     -2.0   1.0   0.0   0.0   0.0   0.0\n",
       "  0.0   0.0   0.0   0.0   0.0   0.0  …   1.0  -2.0   1.0   0.0   0.0   0.0\n",
       "  0.0   0.0   0.0   0.0   0.0   0.0      0.0   1.0  -2.0   1.0   0.0   0.0\n",
       "  0.0   0.0   0.0   0.0   0.0   0.0      0.0   0.0   1.0  -2.0   1.0   0.0\n",
       "  0.0   0.0   0.0   0.0   0.0   0.0      0.0   0.0   0.0   1.0  -2.0   1.0\n",
       "  0.0   0.0   0.0   0.0   0.0   0.0      0.0   0.0   0.0   0.0   1.0  -2.0"
      ]
     },
     "execution_count": 12,
     "metadata": {},
     "output_type": "execute_result"
    }
   ],
   "source": [
    "A"
   ]
  },
  {
   "cell_type": "code",
   "execution_count": 13,
   "metadata": {},
   "outputs": [
    {
     "data": {
      "text/plain": [
       "fxn_factorial (generic function with 1 method)"
      ]
     },
     "execution_count": 13,
     "metadata": {},
     "output_type": "execute_result"
    }
   ],
   "source": [
    "# Factorial problem\n",
    "\n",
    "function fxn_factorial(n)\n",
    "    k = one(n)\n",
    "    for i in 1:n\n",
    "        k *= i\n",
    "    end\n",
    "    k\n",
    "end"
   ]
  },
  {
   "cell_type": "code",
   "execution_count": 14,
   "metadata": {},
   "outputs": [
    {
     "data": {
      "text/plain": [
       "120"
      ]
     },
     "execution_count": 14,
     "metadata": {},
     "output_type": "execute_result"
    }
   ],
   "source": [
    "fxn_factorial(5)"
   ]
  },
  {
   "cell_type": "code",
   "execution_count": 15,
   "metadata": {},
   "outputs": [
    {
     "data": {
      "text/plain": [
       "265252859812191058636308480000000"
      ]
     },
     "execution_count": 15,
     "metadata": {},
     "output_type": "execute_result"
    }
   ],
   "source": [
    "fxn_factorial(big(30))"
   ]
  },
  {
   "cell_type": "code",
   "execution_count": 16,
   "metadata": {},
   "outputs": [
    {
     "data": {
      "text/plain": [
       "fxn_binomial (generic function with 1 method)"
      ]
     },
     "execution_count": 16,
     "metadata": {},
     "output_type": "execute_result"
    }
   ],
   "source": [
    "# Binomial Problem\n",
    "\n",
    "function fxn_binomial(n, p)\n",
    "    count = zero(n)\n",
    "    U = rand(n)\n",
    "    \n",
    "    for i in 1:n\n",
    "        U[i] < p && (count += 1)\n",
    "    end\n",
    "    count\n",
    "end"
   ]
  },
  {
   "cell_type": "code",
   "execution_count": 17,
   "metadata": {},
   "outputs": [
    {
     "data": {
      "text/plain": [
       "5"
      ]
     },
     "execution_count": 17,
     "metadata": {},
     "output_type": "execute_result"
    }
   ],
   "source": [
    "fxn_binomial(10, 0.5)"
   ]
  },
  {
   "cell_type": "code",
   "execution_count": 18,
   "metadata": {},
   "outputs": [
    {
     "data": {
      "text/plain": [
       "10-element Array{Int64,1}:\n",
       " 4\n",
       " 4\n",
       " 5\n",
       " 6\n",
       " 3\n",
       " 5\n",
       " 4\n",
       " 5\n",
       " 6\n",
       " 5"
      ]
     },
     "execution_count": 18,
     "metadata": {},
     "output_type": "execute_result"
    }
   ],
   "source": [
    "my_bin = [fxn_binomial(10, 0.5) for j in 1:10]"
   ]
  },
  {
   "cell_type": "markdown",
   "metadata": {},
   "source": [
    "### Monte Carlo pi Problem "
   ]
  },
  {
   "cell_type": "code",
   "execution_count": 1,
   "metadata": {},
   "outputs": [
    {
     "name": "stdout",
     "output_type": "stream",
     "text": [
      "3.1409612"
     ]
    }
   ],
   "source": [
    "n = 10000000 # Trying higher value will throw your laptop into overdrive :)\n",
    "\n",
    "count = 0\n",
    "for i in 1:n\n",
    "    u,v = 2rand(2) - 1\n",
    "    d = sqrt(u^2 + v^2) # distance from the middle of the square\n",
    "    d < 1 && (count += 1)\n",
    "end\n",
    "\n",
    "area_est = count / n\n",
    "\n",
    "print(area_est * 4)"
   ]
  },
  {
   "cell_type": "markdown",
   "metadata": {},
   "source": [
    "### Timeseries Generation "
   ]
  },
  {
   "cell_type": "code",
   "execution_count": 5,
   "metadata": {},
   "outputs": [
    {
     "ename": "LoadError",
     "evalue": "\u001b[91mUndefVarError: plot not defined\u001b[39m",
     "output_type": "error",
     "traceback": [
      "\u001b[91mUndefVarError: plot not defined\u001b[39m",
      "",
      "Stacktrace:",
      " [1] \u001b[1minclude_string\u001b[22m\u001b[22m\u001b[1m(\u001b[22m\u001b[22m::String, ::String\u001b[1m)\u001b[22m\u001b[22m at \u001b[1m./loading.jl:522\u001b[22m\u001b[22m"
     ]
    }
   ],
   "source": [
    "alphas = [0.0, 0.5, 0.98]\n",
    "T = 100\n",
    "\n",
    "series = []\n",
    "labels = []\n",
    "\n",
    "for alpha in alphas\n",
    "    x = zeros(T + 1)\n",
    "    x[1] = 0.0\n",
    "    for t in 1:T\n",
    "        x[t+1] = alpha * x[t] + randn()\n",
    "    end\n",
    "    push!(series, x)\n",
    "    push!(labels, \"alpha = $alpha\")\n",
    "end\n",
    "\n",
    "plot(series, label=reshape(labels,1,length(labels)),lw=3)"
   ]
  },
  {
   "cell_type": "code",
   "execution_count": null,
   "metadata": {
    "collapsed": true
   },
   "outputs": [],
   "source": []
  }
 ],
 "metadata": {
  "kernelspec": {
   "display_name": "Julia 0.6.1",
   "language": "julia",
   "name": "julia-0.6"
  },
  "language_info": {
   "file_extension": ".jl",
   "mimetype": "application/julia",
   "name": "julia",
   "version": "0.6.1"
  }
 },
 "nbformat": 4,
 "nbformat_minor": 2
}
